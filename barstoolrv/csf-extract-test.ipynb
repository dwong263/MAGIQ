{
 "cells": [
  {
   "cell_type": "code",
   "execution_count": 1,
   "metadata": {},
   "outputs": [],
   "source": [
    "%matplotlib inline  \n",
    "\n",
    "import os\n",
    "\n",
    "import scipy as sp\n",
    "import scipy.stats\n",
    "\n",
    "import numpy as np\n",
    "import nibabel as nib\n",
    "\n",
    "import matplotlib.pyplot as plt\n",
    "import matplotlib.lines as lines"
   ]
  },
  {
   "cell_type": "code",
   "execution_count": 2,
   "metadata": {},
   "outputs": [],
   "source": [
    "brain = nib.load('fse2d_brain.nii.gz')\n",
    "mask  = nib.load('fse2d_mask.nii.gz')"
   ]
  },
  {
   "cell_type": "code",
   "execution_count": 3,
   "metadata": {},
   "outputs": [],
   "source": [
    "brain_img = brain.get_data()\n",
    "mask_img  = mask.get_data()"
   ]
  },
  {
   "cell_type": "code",
   "execution_count": 4,
   "metadata": {},
   "outputs": [],
   "source": [
    "brain_img_vec = np.reshape(brain_img, np.size(brain_img)).astype(int)\n",
    "mask_img_vec  = np.reshape(mask_img,  np.size(mask_img )).astype(int)"
   ]
  },
  {
   "cell_type": "code",
   "execution_count": 5,
   "metadata": {},
   "outputs": [],
   "source": [
    "brain_img_vec_masked = brain_img_vec[mask_img_vec.astype(bool)]\n",
    "brain_kde = sp.stats.gaussian_kde(brain_img_vec_masked)"
   ]
  },
  {
   "cell_type": "code",
   "execution_count": 6,
   "metadata": {},
   "outputs": [
    {
     "name": "stdout",
     "output_type": "stream",
     "text": [
      "  |  330 5728.25825826\n"
     ]
    }
   ],
   "source": [
    "for i, elem in enumerate(sp.linspace(np.min(brain_img_vec), np.max(brain_img_vec), 1000)):\n",
    "    if brain_kde.integrate_box_1d(np.min(brain_img_vec), elem) > 0.935:\n",
    "        print '  | ', i, elem\n",
    "        csf_thresh = elem\n",
    "        break"
   ]
  },
  {
   "cell_type": "code",
   "execution_count": 7,
   "metadata": {},
   "outputs": [
    {
     "data": {
      "text/plain": [
       "<matplotlib.legend.Legend at 0x7fdc2876a450>"
      ]
     },
     "execution_count": 7,
     "metadata": {},
     "output_type": "execute_result"
    },
    {
     "data": {
      "image/png": "[encoded data removed]",
      "text/plain": [
       "<matplotlib.figure.Figure at 0x7fdc2ab7a750>"
      ]
     },
     "metadata": {},
     "output_type": "display_data"
    }
   ],
   "source": [
    "plt.figure()\n",
    "plt.plot(sp.linspace(np.min(brain_img_vec), np.max(brain_img_vec), 1000), brain_kde(sp.linspace(np.min(brain_img_vec), np.max(brain_img_vec), 1000)))\n",
    "plt.plot(csf_thresh, brain_kde(csf_thresh), '.')\n",
    "plt.title('Gaussian Kernel Density Estimate of PDF')\n",
    "plt.xlim(0, np.max(brain_img_vec))\n",
    "plt.xlabel('Image Intensity')\n",
    "plt.ylabel('Probability')\n",
    "plt.legend(['PDF', 'Threshold: '+str(int(csf_thresh))])"
   ]
  },
  {
   "cell_type": "code",
   "execution_count": 8,
   "metadata": {},
   "outputs": [],
   "source": [
    "brain_csf_mask = brain_img >= int(csf_thresh)\n",
    "brain_csf_mask = brain_csf_mask.astype(int)\n",
    "brain_csf_mask_file = nib.Nifti1Image(brain_csf_mask, brain.get_qform())\n",
    "brain_csf_mask_file.to_filename('fse2d_csf_mask.nii.gz')"
   ]
  }
 ],
 "metadata": {
  "kernelspec": {
   "display_name": "Python 2",
   "language": "python",
   "name": "python2"
  },
  "language_info": {
   "codemirror_mode": {
    "name": "ipython",
    "version": 2
   },
   "file_extension": ".py",
   "mimetype": "text/x-python",
   "name": "python",
   "nbconvert_exporter": "python",
   "pygments_lexer": "ipython2",
   "version": "2.7.12"
  }
 },
 "nbformat": 4,
 "nbformat_minor": 2
}
